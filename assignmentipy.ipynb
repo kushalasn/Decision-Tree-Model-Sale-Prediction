{
 "cells": [
  {
   "cell_type": "code",
   "execution_count": 1,
   "id": "adequate-potato",
   "metadata": {},
   "outputs": [],
   "source": [
    "import numpy as np\n",
    "import pandas as pd\n",
    "import seaborn as sns\n",
    "import matplotlib.pyplot as plt\n",
    "import numpy as np\n",
    "from sklearn import preprocessing\n",
    "%matplotlib inline\n"
   ]
  },
  {
   "cell_type": "code",
   "execution_count": 2,
   "id": "occasional-arthur",
   "metadata": {},
   "outputs": [],
   "source": [
    "df=pd.read_csv('train.csv')"
   ]
  },
  {
   "cell_type": "code",
   "execution_count": 3,
   "id": "wanted-opening",
   "metadata": {},
   "outputs": [
    {
     "data": {
      "text/html": [
       "<div>\n",
       "<style scoped>\n",
       "    .dataframe tbody tr th:only-of-type {\n",
       "        vertical-align: middle;\n",
       "    }\n",
       "\n",
       "    .dataframe tbody tr th {\n",
       "        vertical-align: top;\n",
       "    }\n",
       "\n",
       "    .dataframe thead th {\n",
       "        text-align: right;\n",
       "    }\n",
       "</style>\n",
       "<table border=\"1\" class=\"dataframe\">\n",
       "  <thead>\n",
       "    <tr style=\"text-align: right;\">\n",
       "      <th></th>\n",
       "      <th>ID</th>\n",
       "      <th>STATE</th>\n",
       "      <th>AGE</th>\n",
       "      <th>OCCUPATION</th>\n",
       "      <th>INCOME_GROUP</th>\n",
       "      <th>CUSTOMER_SINCE</th>\n",
       "      <th>LOYALTY_PROGRAM</th>\n",
       "      <th>PAST_PURCHASE</th>\n",
       "      <th>PURCHASE</th>\n",
       "    </tr>\n",
       "  </thead>\n",
       "  <tbody>\n",
       "    <tr>\n",
       "      <th>0</th>\n",
       "      <td>1</td>\n",
       "      <td>Uttar Pradesh</td>\n",
       "      <td>28</td>\n",
       "      <td></td>\n",
       "      <td>Low</td>\n",
       "      <td>2018</td>\n",
       "      <td>No</td>\n",
       "      <td>4937</td>\n",
       "      <td>No</td>\n",
       "    </tr>\n",
       "    <tr>\n",
       "      <th>1</th>\n",
       "      <td>2</td>\n",
       "      <td>Madhya Pradesh</td>\n",
       "      <td>27</td>\n",
       "      <td>Salaried</td>\n",
       "      <td>Low</td>\n",
       "      <td>2018</td>\n",
       "      <td>No</td>\n",
       "      <td>10834</td>\n",
       "      <td>No</td>\n",
       "    </tr>\n",
       "    <tr>\n",
       "      <th>2</th>\n",
       "      <td>3</td>\n",
       "      <td>West Bengal</td>\n",
       "      <td>62</td>\n",
       "      <td></td>\n",
       "      <td>High</td>\n",
       "      <td>2013</td>\n",
       "      <td>NaN</td>\n",
       "      <td>8610</td>\n",
       "      <td>Yes</td>\n",
       "    </tr>\n",
       "    <tr>\n",
       "      <th>3</th>\n",
       "      <td>4</td>\n",
       "      <td>Tamil Nadu</td>\n",
       "      <td>27</td>\n",
       "      <td>Salaried</td>\n",
       "      <td>Low</td>\n",
       "      <td>2018</td>\n",
       "      <td>No</td>\n",
       "      <td>14374</td>\n",
       "      <td>Yes</td>\n",
       "    </tr>\n",
       "    <tr>\n",
       "      <th>4</th>\n",
       "      <td>5</td>\n",
       "      <td>Uttar Pradesh</td>\n",
       "      <td>40</td>\n",
       "      <td>Self employed</td>\n",
       "      <td>High</td>\n",
       "      <td>2015</td>\n",
       "      <td>No</td>\n",
       "      <td>13158</td>\n",
       "      <td>No</td>\n",
       "    </tr>\n",
       "  </tbody>\n",
       "</table>\n",
       "</div>"
      ],
      "text/plain": [
       "   ID           STATE  AGE     OCCUPATION INCOME_GROUP  CUSTOMER_SINCE  \\\n",
       "0   1   Uttar Pradesh   28                         Low            2018   \n",
       "1   2  Madhya Pradesh   27       Salaried          Low            2018   \n",
       "2   3     West Bengal   62                        High            2013   \n",
       "3   4      Tamil Nadu   27       Salaried          Low            2018   \n",
       "4   5   Uttar Pradesh   40  Self employed         High            2015   \n",
       "\n",
       "  LOYALTY_PROGRAM  PAST_PURCHASE PURCHASE  \n",
       "0              No           4937       No  \n",
       "1              No          10834       No  \n",
       "2             NaN           8610      Yes  \n",
       "3              No          14374      Yes  \n",
       "4              No          13158       No  "
      ]
     },
     "execution_count": 3,
     "metadata": {},
     "output_type": "execute_result"
    }
   ],
   "source": [
    "df.head()"
   ]
  },
  {
   "cell_type": "code",
   "execution_count": 4,
   "id": "tropical-fifteen",
   "metadata": {},
   "outputs": [
    {
     "name": "stdout",
     "output_type": "stream",
     "text": [
      "<class 'pandas.core.frame.DataFrame'>\n",
      "RangeIndex: 150000 entries, 0 to 149999\n",
      "Data columns (total 9 columns):\n",
      " #   Column           Non-Null Count   Dtype \n",
      "---  ------           --------------   ----- \n",
      " 0   ID               150000 non-null  int64 \n",
      " 1   STATE            150000 non-null  object\n",
      " 2   AGE              150000 non-null  int64 \n",
      " 3   OCCUPATION       150000 non-null  object\n",
      " 4   INCOME_GROUP     150000 non-null  object\n",
      " 5   CUSTOMER_SINCE   150000 non-null  int64 \n",
      " 6   LOYALTY_PROGRAM  132176 non-null  object\n",
      " 7   PAST_PURCHASE    150000 non-null  int64 \n",
      " 8   PURCHASE         150000 non-null  object\n",
      "dtypes: int64(4), object(5)\n",
      "memory usage: 10.3+ MB\n"
     ]
    }
   ],
   "source": [
    "df.info()"
   ]
  },
  {
   "cell_type": "code",
   "execution_count": 5,
   "id": "middle-relief",
   "metadata": {},
   "outputs": [
    {
     "data": {
      "text/plain": [
       "ID                     0\n",
       "STATE                  0\n",
       "AGE                    0\n",
       "OCCUPATION             0\n",
       "INCOME_GROUP           0\n",
       "CUSTOMER_SINCE         0\n",
       "LOYALTY_PROGRAM    17824\n",
       "PAST_PURCHASE          0\n",
       "PURCHASE               0\n",
       "dtype: int64"
      ]
     },
     "execution_count": 5,
     "metadata": {},
     "output_type": "execute_result"
    }
   ],
   "source": [
    "df.isna().sum()"
   ]
  },
  {
   "cell_type": "code",
   "execution_count": 6,
   "id": "recovered-anchor",
   "metadata": {},
   "outputs": [
    {
     "data": {
      "text/html": [
       "<div>\n",
       "<style scoped>\n",
       "    .dataframe tbody tr th:only-of-type {\n",
       "        vertical-align: middle;\n",
       "    }\n",
       "\n",
       "    .dataframe tbody tr th {\n",
       "        vertical-align: top;\n",
       "    }\n",
       "\n",
       "    .dataframe thead th {\n",
       "        text-align: right;\n",
       "    }\n",
       "</style>\n",
       "<table border=\"1\" class=\"dataframe\">\n",
       "  <thead>\n",
       "    <tr style=\"text-align: right;\">\n",
       "      <th></th>\n",
       "      <th>ID</th>\n",
       "      <th>AGE</th>\n",
       "      <th>CUSTOMER_SINCE</th>\n",
       "      <th>PAST_PURCHASE</th>\n",
       "    </tr>\n",
       "  </thead>\n",
       "  <tbody>\n",
       "    <tr>\n",
       "      <th>count</th>\n",
       "      <td>150000.000000</td>\n",
       "      <td>150000.000000</td>\n",
       "      <td>150000.000000</td>\n",
       "      <td>150000.000000</td>\n",
       "    </tr>\n",
       "    <tr>\n",
       "      <th>mean</th>\n",
       "      <td>75000.500000</td>\n",
       "      <td>43.805660</td>\n",
       "      <td>2015.507960</td>\n",
       "      <td>11244.207287</td>\n",
       "    </tr>\n",
       "    <tr>\n",
       "      <th>std</th>\n",
       "      <td>43301.414527</td>\n",
       "      <td>14.828219</td>\n",
       "      <td>2.685645</td>\n",
       "      <td>8458.166886</td>\n",
       "    </tr>\n",
       "    <tr>\n",
       "      <th>min</th>\n",
       "      <td>1.000000</td>\n",
       "      <td>23.000000</td>\n",
       "      <td>2008.000000</td>\n",
       "      <td>208.000000</td>\n",
       "    </tr>\n",
       "    <tr>\n",
       "      <th>25%</th>\n",
       "      <td>37500.750000</td>\n",
       "      <td>30.000000</td>\n",
       "      <td>2013.000000</td>\n",
       "      <td>6034.750000</td>\n",
       "    </tr>\n",
       "    <tr>\n",
       "      <th>50%</th>\n",
       "      <td>75000.500000</td>\n",
       "      <td>43.000000</td>\n",
       "      <td>2017.000000</td>\n",
       "      <td>8926.000000</td>\n",
       "    </tr>\n",
       "    <tr>\n",
       "      <th>75%</th>\n",
       "      <td>112500.250000</td>\n",
       "      <td>54.000000</td>\n",
       "      <td>2018.000000</td>\n",
       "      <td>13636.000000</td>\n",
       "    </tr>\n",
       "    <tr>\n",
       "      <th>max</th>\n",
       "      <td>150000.000000</td>\n",
       "      <td>85.000000</td>\n",
       "      <td>2019.000000</td>\n",
       "      <td>103520.000000</td>\n",
       "    </tr>\n",
       "  </tbody>\n",
       "</table>\n",
       "</div>"
      ],
      "text/plain": [
       "                  ID            AGE  CUSTOMER_SINCE  PAST_PURCHASE\n",
       "count  150000.000000  150000.000000   150000.000000  150000.000000\n",
       "mean    75000.500000      43.805660     2015.507960   11244.207287\n",
       "std     43301.414527      14.828219        2.685645    8458.166886\n",
       "min         1.000000      23.000000     2008.000000     208.000000\n",
       "25%     37500.750000      30.000000     2013.000000    6034.750000\n",
       "50%     75000.500000      43.000000     2017.000000    8926.000000\n",
       "75%    112500.250000      54.000000     2018.000000   13636.000000\n",
       "max    150000.000000      85.000000     2019.000000  103520.000000"
      ]
     },
     "execution_count": 6,
     "metadata": {},
     "output_type": "execute_result"
    }
   ],
   "source": [
    "df.describe()"
   ]
  },
  {
   "cell_type": "code",
   "execution_count": 7,
   "id": "alike-limit",
   "metadata": {},
   "outputs": [
    {
     "data": {
      "text/plain": [
       "No     88182\n",
       "Yes    43994\n",
       "Name: LOYALTY_PROGRAM, dtype: int64"
      ]
     },
     "execution_count": 7,
     "metadata": {},
     "output_type": "execute_result"
    }
   ],
   "source": [
    "df['LOYALTY_PROGRAM'].value_counts()"
   ]
  },
  {
   "cell_type": "code",
   "execution_count": 8,
   "id": "ecological-nigeria",
   "metadata": {},
   "outputs": [
    {
     "data": {
      "text/plain": [
       "Self employed    61375\n",
       "Salaried         44214\n",
       "                 42777\n",
       "Business          1634\n",
       "Name: OCCUPATION, dtype: int64"
      ]
     },
     "execution_count": 8,
     "metadata": {},
     "output_type": "execute_result"
    }
   ],
   "source": [
    "df['OCCUPATION'].value_counts()"
   ]
  },
  {
   "cell_type": "code",
   "execution_count": 9,
   "id": "efficient-provision",
   "metadata": {},
   "outputs": [],
   "source": [
    "\n",
    "\n",
    "# Create a minimum and maximum processor object\n",
    "min_max_scaler = preprocessing.MinMaxScaler()\n",
    "\n",
    "# Create an object to transform the data to fit minmax processor\n",
    "x_scaled = min_max_scaler.fit_transform(df[['PAST_PURCHASE']])\n",
    "\n",
    "# Run the normalizer on the dataframe\n",
    "df_normalized = pd.DataFrame(x_scaled)"
   ]
  },
  {
   "cell_type": "code",
   "execution_count": 10,
   "id": "based-height",
   "metadata": {},
   "outputs": [],
   "source": [
    "df_normalized.columns = ['PAST_PURCHASE_Normalised']"
   ]
  },
  {
   "cell_type": "code",
   "execution_count": 11,
   "id": "thick-persian",
   "metadata": {},
   "outputs": [],
   "source": [
    "df_sc1 = pd.concat([df, df_normalized], axis=1)"
   ]
  },
  {
   "cell_type": "code",
   "execution_count": 12,
   "id": "revised-check",
   "metadata": {},
   "outputs": [],
   "source": [
    "df_sc1=df_sc1.drop(['PAST_PURCHASE'], axis=1)"
   ]
  },
  {
   "cell_type": "code",
   "execution_count": 13,
   "id": "exempt-reynolds",
   "metadata": {},
   "outputs": [],
   "source": [
    "min_max_scaler = preprocessing.MinMaxScaler()\n",
    "\n",
    "# Create an object to transform the data to fit minmax processor\n",
    "x_scaled1 = min_max_scaler.fit_transform(df[['AGE']])\n",
    "\n",
    "# Run the normalizer on the dataframe\n",
    "df_normalized1 = pd.DataFrame(x_scaled1)"
   ]
  },
  {
   "cell_type": "code",
   "execution_count": 14,
   "id": "wound-wrapping",
   "metadata": {},
   "outputs": [],
   "source": [
    "df_normalized1.columns = ['AGE_Normalised']\n",
    "df_sc11 = pd.concat([df_sc1, df_normalized1], axis=1)\n",
    "df_sc11=df_sc11.drop(['AGE'], axis=1)"
   ]
  },
  {
   "cell_type": "code",
   "execution_count": 15,
   "id": "critical-tobago",
   "metadata": {},
   "outputs": [
    {
     "data": {
      "text/html": [
       "<div>\n",
       "<style scoped>\n",
       "    .dataframe tbody tr th:only-of-type {\n",
       "        vertical-align: middle;\n",
       "    }\n",
       "\n",
       "    .dataframe tbody tr th {\n",
       "        vertical-align: top;\n",
       "    }\n",
       "\n",
       "    .dataframe thead th {\n",
       "        text-align: right;\n",
       "    }\n",
       "</style>\n",
       "<table border=\"1\" class=\"dataframe\">\n",
       "  <thead>\n",
       "    <tr style=\"text-align: right;\">\n",
       "      <th></th>\n",
       "      <th>ID</th>\n",
       "      <th>STATE</th>\n",
       "      <th>OCCUPATION</th>\n",
       "      <th>INCOME_GROUP</th>\n",
       "      <th>CUSTOMER_SINCE</th>\n",
       "      <th>LOYALTY_PROGRAM</th>\n",
       "      <th>PURCHASE</th>\n",
       "      <th>PAST_PURCHASE_Normalised</th>\n",
       "      <th>AGE_Normalised</th>\n",
       "    </tr>\n",
       "  </thead>\n",
       "  <tbody>\n",
       "    <tr>\n",
       "      <th>0</th>\n",
       "      <td>1</td>\n",
       "      <td>Uttar Pradesh</td>\n",
       "      <td></td>\n",
       "      <td>Low</td>\n",
       "      <td>2018</td>\n",
       "      <td>No</td>\n",
       "      <td>No</td>\n",
       "      <td>0.045774</td>\n",
       "      <td>0.080645</td>\n",
       "    </tr>\n",
       "    <tr>\n",
       "      <th>1</th>\n",
       "      <td>2</td>\n",
       "      <td>Madhya Pradesh</td>\n",
       "      <td>Salaried</td>\n",
       "      <td>Low</td>\n",
       "      <td>2018</td>\n",
       "      <td>No</td>\n",
       "      <td>No</td>\n",
       "      <td>0.102853</td>\n",
       "      <td>0.064516</td>\n",
       "    </tr>\n",
       "    <tr>\n",
       "      <th>2</th>\n",
       "      <td>3</td>\n",
       "      <td>West Bengal</td>\n",
       "      <td></td>\n",
       "      <td>High</td>\n",
       "      <td>2013</td>\n",
       "      <td>NaN</td>\n",
       "      <td>Yes</td>\n",
       "      <td>0.081326</td>\n",
       "      <td>0.629032</td>\n",
       "    </tr>\n",
       "    <tr>\n",
       "      <th>3</th>\n",
       "      <td>4</td>\n",
       "      <td>Tamil Nadu</td>\n",
       "      <td>Salaried</td>\n",
       "      <td>Low</td>\n",
       "      <td>2018</td>\n",
       "      <td>No</td>\n",
       "      <td>Yes</td>\n",
       "      <td>0.137119</td>\n",
       "      <td>0.064516</td>\n",
       "    </tr>\n",
       "    <tr>\n",
       "      <th>4</th>\n",
       "      <td>5</td>\n",
       "      <td>Uttar Pradesh</td>\n",
       "      <td>Self employed</td>\n",
       "      <td>High</td>\n",
       "      <td>2015</td>\n",
       "      <td>No</td>\n",
       "      <td>No</td>\n",
       "      <td>0.125348</td>\n",
       "      <td>0.274194</td>\n",
       "    </tr>\n",
       "  </tbody>\n",
       "</table>\n",
       "</div>"
      ],
      "text/plain": [
       "   ID           STATE     OCCUPATION INCOME_GROUP  CUSTOMER_SINCE  \\\n",
       "0   1   Uttar Pradesh                         Low            2018   \n",
       "1   2  Madhya Pradesh       Salaried          Low            2018   \n",
       "2   3     West Bengal                        High            2013   \n",
       "3   4      Tamil Nadu       Salaried          Low            2018   \n",
       "4   5   Uttar Pradesh  Self employed         High            2015   \n",
       "\n",
       "  LOYALTY_PROGRAM PURCHASE  PAST_PURCHASE_Normalised  AGE_Normalised  \n",
       "0              No       No                  0.045774        0.080645  \n",
       "1              No       No                  0.102853        0.064516  \n",
       "2             NaN      Yes                  0.081326        0.629032  \n",
       "3              No      Yes                  0.137119        0.064516  \n",
       "4              No       No                  0.125348        0.274194  "
      ]
     },
     "execution_count": 15,
     "metadata": {},
     "output_type": "execute_result"
    }
   ],
   "source": [
    "df_sc11.head()"
   ]
  },
  {
   "cell_type": "code",
   "execution_count": 16,
   "id": "about-brooks",
   "metadata": {},
   "outputs": [],
   "source": [
    "df_sc11.loc[:, \"CUSTOMER_SINCE\"] = df[\"CUSTOMER_SINCE\"].apply(lambda x:2021-x)"
   ]
  },
  {
   "cell_type": "code",
   "execution_count": 17,
   "id": "amino-member",
   "metadata": {},
   "outputs": [
    {
     "data": {
      "text/html": [
       "<div>\n",
       "<style scoped>\n",
       "    .dataframe tbody tr th:only-of-type {\n",
       "        vertical-align: middle;\n",
       "    }\n",
       "\n",
       "    .dataframe tbody tr th {\n",
       "        vertical-align: top;\n",
       "    }\n",
       "\n",
       "    .dataframe thead th {\n",
       "        text-align: right;\n",
       "    }\n",
       "</style>\n",
       "<table border=\"1\" class=\"dataframe\">\n",
       "  <thead>\n",
       "    <tr style=\"text-align: right;\">\n",
       "      <th></th>\n",
       "      <th>ID</th>\n",
       "      <th>STATE</th>\n",
       "      <th>OCCUPATION</th>\n",
       "      <th>INCOME_GROUP</th>\n",
       "      <th>CUSTOMER_SINCE</th>\n",
       "      <th>LOYALTY_PROGRAM</th>\n",
       "      <th>PURCHASE</th>\n",
       "      <th>PAST_PURCHASE_Normalised</th>\n",
       "      <th>AGE_Normalised</th>\n",
       "    </tr>\n",
       "  </thead>\n",
       "  <tbody>\n",
       "    <tr>\n",
       "      <th>0</th>\n",
       "      <td>1</td>\n",
       "      <td>Uttar Pradesh</td>\n",
       "      <td></td>\n",
       "      <td>Low</td>\n",
       "      <td>3</td>\n",
       "      <td>No</td>\n",
       "      <td>No</td>\n",
       "      <td>0.045774</td>\n",
       "      <td>0.080645</td>\n",
       "    </tr>\n",
       "    <tr>\n",
       "      <th>1</th>\n",
       "      <td>2</td>\n",
       "      <td>Madhya Pradesh</td>\n",
       "      <td>Salaried</td>\n",
       "      <td>Low</td>\n",
       "      <td>3</td>\n",
       "      <td>No</td>\n",
       "      <td>No</td>\n",
       "      <td>0.102853</td>\n",
       "      <td>0.064516</td>\n",
       "    </tr>\n",
       "    <tr>\n",
       "      <th>2</th>\n",
       "      <td>3</td>\n",
       "      <td>West Bengal</td>\n",
       "      <td></td>\n",
       "      <td>High</td>\n",
       "      <td>8</td>\n",
       "      <td>NaN</td>\n",
       "      <td>Yes</td>\n",
       "      <td>0.081326</td>\n",
       "      <td>0.629032</td>\n",
       "    </tr>\n",
       "    <tr>\n",
       "      <th>3</th>\n",
       "      <td>4</td>\n",
       "      <td>Tamil Nadu</td>\n",
       "      <td>Salaried</td>\n",
       "      <td>Low</td>\n",
       "      <td>3</td>\n",
       "      <td>No</td>\n",
       "      <td>Yes</td>\n",
       "      <td>0.137119</td>\n",
       "      <td>0.064516</td>\n",
       "    </tr>\n",
       "    <tr>\n",
       "      <th>4</th>\n",
       "      <td>5</td>\n",
       "      <td>Uttar Pradesh</td>\n",
       "      <td>Self employed</td>\n",
       "      <td>High</td>\n",
       "      <td>6</td>\n",
       "      <td>No</td>\n",
       "      <td>No</td>\n",
       "      <td>0.125348</td>\n",
       "      <td>0.274194</td>\n",
       "    </tr>\n",
       "    <tr>\n",
       "      <th>...</th>\n",
       "      <td>...</td>\n",
       "      <td>...</td>\n",
       "      <td>...</td>\n",
       "      <td>...</td>\n",
       "      <td>...</td>\n",
       "      <td>...</td>\n",
       "      <td>...</td>\n",
       "      <td>...</td>\n",
       "      <td>...</td>\n",
       "    </tr>\n",
       "    <tr>\n",
       "      <th>149995</th>\n",
       "      <td>149996</td>\n",
       "      <td>Assam</td>\n",
       "      <td>Salaried</td>\n",
       "      <td>Low</td>\n",
       "      <td>4</td>\n",
       "      <td>No</td>\n",
       "      <td>No</td>\n",
       "      <td>0.058396</td>\n",
       "      <td>0.096774</td>\n",
       "    </tr>\n",
       "    <tr>\n",
       "      <th>149996</th>\n",
       "      <td>149997</td>\n",
       "      <td>Andhra Pradesh</td>\n",
       "      <td>Self employed</td>\n",
       "      <td>Medium</td>\n",
       "      <td>11</td>\n",
       "      <td>No</td>\n",
       "      <td>No</td>\n",
       "      <td>0.283016</td>\n",
       "      <td>0.483871</td>\n",
       "    </tr>\n",
       "    <tr>\n",
       "      <th>149997</th>\n",
       "      <td>149998</td>\n",
       "      <td>Odisha</td>\n",
       "      <td></td>\n",
       "      <td>Low</td>\n",
       "      <td>3</td>\n",
       "      <td>No</td>\n",
       "      <td>No</td>\n",
       "      <td>0.044990</td>\n",
       "      <td>0.129032</td>\n",
       "    </tr>\n",
       "    <tr>\n",
       "      <th>149998</th>\n",
       "      <td>149999</td>\n",
       "      <td>Andhra Pradesh</td>\n",
       "      <td>Self employed</td>\n",
       "      <td>High</td>\n",
       "      <td>11</td>\n",
       "      <td>Yes</td>\n",
       "      <td>Yes</td>\n",
       "      <td>0.095081</td>\n",
       "      <td>0.500000</td>\n",
       "    </tr>\n",
       "    <tr>\n",
       "      <th>149999</th>\n",
       "      <td>150000</td>\n",
       "      <td>Maharashtra</td>\n",
       "      <td></td>\n",
       "      <td>Medium</td>\n",
       "      <td>8</td>\n",
       "      <td>NaN</td>\n",
       "      <td>Yes</td>\n",
       "      <td>0.073109</td>\n",
       "      <td>0.596774</td>\n",
       "    </tr>\n",
       "  </tbody>\n",
       "</table>\n",
       "<p>150000 rows × 9 columns</p>\n",
       "</div>"
      ],
      "text/plain": [
       "            ID           STATE     OCCUPATION INCOME_GROUP  CUSTOMER_SINCE  \\\n",
       "0            1   Uttar Pradesh                         Low               3   \n",
       "1            2  Madhya Pradesh       Salaried          Low               3   \n",
       "2            3     West Bengal                        High               8   \n",
       "3            4      Tamil Nadu       Salaried          Low               3   \n",
       "4            5   Uttar Pradesh  Self employed         High               6   \n",
       "...        ...             ...            ...          ...             ...   \n",
       "149995  149996           Assam       Salaried          Low               4   \n",
       "149996  149997  Andhra Pradesh  Self employed       Medium              11   \n",
       "149997  149998          Odisha                         Low               3   \n",
       "149998  149999  Andhra Pradesh  Self employed         High              11   \n",
       "149999  150000     Maharashtra                      Medium               8   \n",
       "\n",
       "       LOYALTY_PROGRAM PURCHASE  PAST_PURCHASE_Normalised  AGE_Normalised  \n",
       "0                   No       No                  0.045774        0.080645  \n",
       "1                   No       No                  0.102853        0.064516  \n",
       "2                  NaN      Yes                  0.081326        0.629032  \n",
       "3                   No      Yes                  0.137119        0.064516  \n",
       "4                   No       No                  0.125348        0.274194  \n",
       "...                ...      ...                       ...             ...  \n",
       "149995              No       No                  0.058396        0.096774  \n",
       "149996              No       No                  0.283016        0.483871  \n",
       "149997              No       No                  0.044990        0.129032  \n",
       "149998             Yes      Yes                  0.095081        0.500000  \n",
       "149999             NaN      Yes                  0.073109        0.596774  \n",
       "\n",
       "[150000 rows x 9 columns]"
      ]
     },
     "execution_count": 17,
     "metadata": {},
     "output_type": "execute_result"
    }
   ],
   "source": [
    "df_sc11"
   ]
  },
  {
   "cell_type": "code",
   "execution_count": 18,
   "id": "plastic-queue",
   "metadata": {},
   "outputs": [
    {
     "data": {
      "text/plain": [
       "0"
      ]
     },
     "execution_count": 18,
     "metadata": {},
     "output_type": "execute_result"
    }
   ],
   "source": [
    "df_sc11['PURCHASE'].isna().sum()"
   ]
  },
  {
   "cell_type": "code",
   "execution_count": 19,
   "id": "induced-vertex",
   "metadata": {},
   "outputs": [],
   "source": [
    "#df_sc11.loc[:, \"PURCHASE\"] = df[\"PURCHASE\"].apply({'No':0,'Yes':1})\n",
    "df_sc11[\"PURCHASE\"] = pd.get_dummies(df_sc11[\"PURCHASE\"])"
   ]
  },
  {
   "cell_type": "code",
   "execution_count": 20,
   "id": "unsigned-samoa",
   "metadata": {},
   "outputs": [
    {
     "data": {
      "text/plain": [
       "0         1\n",
       "1         1\n",
       "2         0\n",
       "3         0\n",
       "4         1\n",
       "         ..\n",
       "149995    1\n",
       "149996    1\n",
       "149997    1\n",
       "149998    0\n",
       "149999    0\n",
       "Name: PURCHASE, Length: 150000, dtype: uint8"
      ]
     },
     "execution_count": 20,
     "metadata": {},
     "output_type": "execute_result"
    }
   ],
   "source": [
    "df_sc11[\"PURCHASE\"]"
   ]
  },
  {
   "cell_type": "code",
   "execution_count": 21,
   "id": "animal-narrow",
   "metadata": {},
   "outputs": [
    {
     "data": {
      "text/html": [
       "<div>\n",
       "<style scoped>\n",
       "    .dataframe tbody tr th:only-of-type {\n",
       "        vertical-align: middle;\n",
       "    }\n",
       "\n",
       "    .dataframe tbody tr th {\n",
       "        vertical-align: top;\n",
       "    }\n",
       "\n",
       "    .dataframe thead th {\n",
       "        text-align: right;\n",
       "    }\n",
       "</style>\n",
       "<table border=\"1\" class=\"dataframe\">\n",
       "  <thead>\n",
       "    <tr style=\"text-align: right;\">\n",
       "      <th></th>\n",
       "      <th>ID</th>\n",
       "      <th>STATE</th>\n",
       "      <th>OCCUPATION</th>\n",
       "      <th>INCOME_GROUP</th>\n",
       "      <th>CUSTOMER_SINCE</th>\n",
       "      <th>LOYALTY_PROGRAM</th>\n",
       "      <th>PURCHASE</th>\n",
       "      <th>PAST_PURCHASE_Normalised</th>\n",
       "      <th>AGE_Normalised</th>\n",
       "    </tr>\n",
       "  </thead>\n",
       "  <tbody>\n",
       "    <tr>\n",
       "      <th>149995</th>\n",
       "      <td>149996</td>\n",
       "      <td>Assam</td>\n",
       "      <td>Salaried</td>\n",
       "      <td>Low</td>\n",
       "      <td>4</td>\n",
       "      <td>No</td>\n",
       "      <td>1</td>\n",
       "      <td>0.058396</td>\n",
       "      <td>0.096774</td>\n",
       "    </tr>\n",
       "    <tr>\n",
       "      <th>149996</th>\n",
       "      <td>149997</td>\n",
       "      <td>Andhra Pradesh</td>\n",
       "      <td>Self employed</td>\n",
       "      <td>Medium</td>\n",
       "      <td>11</td>\n",
       "      <td>No</td>\n",
       "      <td>1</td>\n",
       "      <td>0.283016</td>\n",
       "      <td>0.483871</td>\n",
       "    </tr>\n",
       "    <tr>\n",
       "      <th>149997</th>\n",
       "      <td>149998</td>\n",
       "      <td>Odisha</td>\n",
       "      <td></td>\n",
       "      <td>Low</td>\n",
       "      <td>3</td>\n",
       "      <td>No</td>\n",
       "      <td>1</td>\n",
       "      <td>0.044990</td>\n",
       "      <td>0.129032</td>\n",
       "    </tr>\n",
       "    <tr>\n",
       "      <th>149998</th>\n",
       "      <td>149999</td>\n",
       "      <td>Andhra Pradesh</td>\n",
       "      <td>Self employed</td>\n",
       "      <td>High</td>\n",
       "      <td>11</td>\n",
       "      <td>Yes</td>\n",
       "      <td>0</td>\n",
       "      <td>0.095081</td>\n",
       "      <td>0.500000</td>\n",
       "    </tr>\n",
       "    <tr>\n",
       "      <th>149999</th>\n",
       "      <td>150000</td>\n",
       "      <td>Maharashtra</td>\n",
       "      <td></td>\n",
       "      <td>Medium</td>\n",
       "      <td>8</td>\n",
       "      <td>NaN</td>\n",
       "      <td>0</td>\n",
       "      <td>0.073109</td>\n",
       "      <td>0.596774</td>\n",
       "    </tr>\n",
       "  </tbody>\n",
       "</table>\n",
       "</div>"
      ],
      "text/plain": [
       "            ID           STATE     OCCUPATION INCOME_GROUP  CUSTOMER_SINCE  \\\n",
       "149995  149996           Assam       Salaried          Low               4   \n",
       "149996  149997  Andhra Pradesh  Self employed       Medium              11   \n",
       "149997  149998          Odisha                         Low               3   \n",
       "149998  149999  Andhra Pradesh  Self employed         High              11   \n",
       "149999  150000     Maharashtra                      Medium               8   \n",
       "\n",
       "       LOYALTY_PROGRAM  PURCHASE  PAST_PURCHASE_Normalised  AGE_Normalised  \n",
       "149995              No         1                  0.058396        0.096774  \n",
       "149996              No         1                  0.283016        0.483871  \n",
       "149997              No         1                  0.044990        0.129032  \n",
       "149998             Yes         0                  0.095081        0.500000  \n",
       "149999             NaN         0                  0.073109        0.596774  "
      ]
     },
     "execution_count": 21,
     "metadata": {},
     "output_type": "execute_result"
    }
   ],
   "source": [
    "df_sc11.tail()"
   ]
  },
  {
   "cell_type": "code",
   "execution_count": 22,
   "id": "accepted-corporation",
   "metadata": {},
   "outputs": [
    {
     "data": {
      "text/plain": [
       "Low       63523\n",
       "High      41808\n",
       "Medium    41232\n",
       "           3437\n",
       "Name: INCOME_GROUP, dtype: int64"
      ]
     },
     "execution_count": 22,
     "metadata": {},
     "output_type": "execute_result"
    }
   ],
   "source": [
    "df_sc11['INCOME_GROUP'].value_counts()"
   ]
  },
  {
   "cell_type": "code",
   "execution_count": 23,
   "id": "revolutionary-garden",
   "metadata": {},
   "outputs": [],
   "source": [
    "cleanup_nums = {\"INCOME_GROUP\": {\"Low\": 0, \"High\": 2, \"Medium\": 1, \" \": 3}}\n",
    "df_sc11 = df_sc11.replace(cleanup_nums)\n"
   ]
  },
  {
   "cell_type": "code",
   "execution_count": 24,
   "id": "expired-demographic",
   "metadata": {},
   "outputs": [
    {
     "data": {
      "text/plain": [
       "0    63523\n",
       "2    41808\n",
       "1    41232\n",
       "3     3437\n",
       "Name: INCOME_GROUP, dtype: int64"
      ]
     },
     "execution_count": 24,
     "metadata": {},
     "output_type": "execute_result"
    }
   ],
   "source": [
    "df_sc11['INCOME_GROUP'].value_counts()"
   ]
  },
  {
   "cell_type": "code",
   "execution_count": null,
   "id": "controlling-filename",
   "metadata": {},
   "outputs": [],
   "source": []
  },
  {
   "cell_type": "code",
   "execution_count": 25,
   "id": "characteristic-collar",
   "metadata": {},
   "outputs": [],
   "source": [
    "cleanup_nums = {\"OCCUPATION\": {\"Salaried\": 3, \"Self employed\": 1, \"Business\": 2, \" \": 0}}\n",
    "df_sc11 = df_sc11.replace(cleanup_nums)"
   ]
  },
  {
   "cell_type": "code",
   "execution_count": 26,
   "id": "special-butter",
   "metadata": {},
   "outputs": [
    {
     "data": {
      "text/html": [
       "<div>\n",
       "<style scoped>\n",
       "    .dataframe tbody tr th:only-of-type {\n",
       "        vertical-align: middle;\n",
       "    }\n",
       "\n",
       "    .dataframe tbody tr th {\n",
       "        vertical-align: top;\n",
       "    }\n",
       "\n",
       "    .dataframe thead th {\n",
       "        text-align: right;\n",
       "    }\n",
       "</style>\n",
       "<table border=\"1\" class=\"dataframe\">\n",
       "  <thead>\n",
       "    <tr style=\"text-align: right;\">\n",
       "      <th></th>\n",
       "      <th>ID</th>\n",
       "      <th>STATE</th>\n",
       "      <th>OCCUPATION</th>\n",
       "      <th>INCOME_GROUP</th>\n",
       "      <th>CUSTOMER_SINCE</th>\n",
       "      <th>LOYALTY_PROGRAM</th>\n",
       "      <th>PURCHASE</th>\n",
       "      <th>PAST_PURCHASE_Normalised</th>\n",
       "      <th>AGE_Normalised</th>\n",
       "    </tr>\n",
       "  </thead>\n",
       "  <tbody>\n",
       "    <tr>\n",
       "      <th>0</th>\n",
       "      <td>1</td>\n",
       "      <td>Uttar Pradesh</td>\n",
       "      <td>0</td>\n",
       "      <td>0</td>\n",
       "      <td>3</td>\n",
       "      <td>No</td>\n",
       "      <td>1</td>\n",
       "      <td>0.045774</td>\n",
       "      <td>0.080645</td>\n",
       "    </tr>\n",
       "    <tr>\n",
       "      <th>1</th>\n",
       "      <td>2</td>\n",
       "      <td>Madhya Pradesh</td>\n",
       "      <td>3</td>\n",
       "      <td>0</td>\n",
       "      <td>3</td>\n",
       "      <td>No</td>\n",
       "      <td>1</td>\n",
       "      <td>0.102853</td>\n",
       "      <td>0.064516</td>\n",
       "    </tr>\n",
       "    <tr>\n",
       "      <th>2</th>\n",
       "      <td>3</td>\n",
       "      <td>West Bengal</td>\n",
       "      <td>0</td>\n",
       "      <td>2</td>\n",
       "      <td>8</td>\n",
       "      <td>NaN</td>\n",
       "      <td>0</td>\n",
       "      <td>0.081326</td>\n",
       "      <td>0.629032</td>\n",
       "    </tr>\n",
       "    <tr>\n",
       "      <th>3</th>\n",
       "      <td>4</td>\n",
       "      <td>Tamil Nadu</td>\n",
       "      <td>3</td>\n",
       "      <td>0</td>\n",
       "      <td>3</td>\n",
       "      <td>No</td>\n",
       "      <td>0</td>\n",
       "      <td>0.137119</td>\n",
       "      <td>0.064516</td>\n",
       "    </tr>\n",
       "    <tr>\n",
       "      <th>4</th>\n",
       "      <td>5</td>\n",
       "      <td>Uttar Pradesh</td>\n",
       "      <td>1</td>\n",
       "      <td>2</td>\n",
       "      <td>6</td>\n",
       "      <td>No</td>\n",
       "      <td>1</td>\n",
       "      <td>0.125348</td>\n",
       "      <td>0.274194</td>\n",
       "    </tr>\n",
       "    <tr>\n",
       "      <th>...</th>\n",
       "      <td>...</td>\n",
       "      <td>...</td>\n",
       "      <td>...</td>\n",
       "      <td>...</td>\n",
       "      <td>...</td>\n",
       "      <td>...</td>\n",
       "      <td>...</td>\n",
       "      <td>...</td>\n",
       "      <td>...</td>\n",
       "    </tr>\n",
       "    <tr>\n",
       "      <th>149995</th>\n",
       "      <td>149996</td>\n",
       "      <td>Assam</td>\n",
       "      <td>3</td>\n",
       "      <td>0</td>\n",
       "      <td>4</td>\n",
       "      <td>No</td>\n",
       "      <td>1</td>\n",
       "      <td>0.058396</td>\n",
       "      <td>0.096774</td>\n",
       "    </tr>\n",
       "    <tr>\n",
       "      <th>149996</th>\n",
       "      <td>149997</td>\n",
       "      <td>Andhra Pradesh</td>\n",
       "      <td>1</td>\n",
       "      <td>1</td>\n",
       "      <td>11</td>\n",
       "      <td>No</td>\n",
       "      <td>1</td>\n",
       "      <td>0.283016</td>\n",
       "      <td>0.483871</td>\n",
       "    </tr>\n",
       "    <tr>\n",
       "      <th>149997</th>\n",
       "      <td>149998</td>\n",
       "      <td>Odisha</td>\n",
       "      <td>0</td>\n",
       "      <td>0</td>\n",
       "      <td>3</td>\n",
       "      <td>No</td>\n",
       "      <td>1</td>\n",
       "      <td>0.044990</td>\n",
       "      <td>0.129032</td>\n",
       "    </tr>\n",
       "    <tr>\n",
       "      <th>149998</th>\n",
       "      <td>149999</td>\n",
       "      <td>Andhra Pradesh</td>\n",
       "      <td>1</td>\n",
       "      <td>2</td>\n",
       "      <td>11</td>\n",
       "      <td>Yes</td>\n",
       "      <td>0</td>\n",
       "      <td>0.095081</td>\n",
       "      <td>0.500000</td>\n",
       "    </tr>\n",
       "    <tr>\n",
       "      <th>149999</th>\n",
       "      <td>150000</td>\n",
       "      <td>Maharashtra</td>\n",
       "      <td>0</td>\n",
       "      <td>1</td>\n",
       "      <td>8</td>\n",
       "      <td>NaN</td>\n",
       "      <td>0</td>\n",
       "      <td>0.073109</td>\n",
       "      <td>0.596774</td>\n",
       "    </tr>\n",
       "  </tbody>\n",
       "</table>\n",
       "<p>150000 rows × 9 columns</p>\n",
       "</div>"
      ],
      "text/plain": [
       "            ID           STATE  OCCUPATION  INCOME_GROUP  CUSTOMER_SINCE  \\\n",
       "0            1   Uttar Pradesh           0             0               3   \n",
       "1            2  Madhya Pradesh           3             0               3   \n",
       "2            3     West Bengal           0             2               8   \n",
       "3            4      Tamil Nadu           3             0               3   \n",
       "4            5   Uttar Pradesh           1             2               6   \n",
       "...        ...             ...         ...           ...             ...   \n",
       "149995  149996           Assam           3             0               4   \n",
       "149996  149997  Andhra Pradesh           1             1              11   \n",
       "149997  149998          Odisha           0             0               3   \n",
       "149998  149999  Andhra Pradesh           1             2              11   \n",
       "149999  150000     Maharashtra           0             1               8   \n",
       "\n",
       "       LOYALTY_PROGRAM  PURCHASE  PAST_PURCHASE_Normalised  AGE_Normalised  \n",
       "0                   No         1                  0.045774        0.080645  \n",
       "1                   No         1                  0.102853        0.064516  \n",
       "2                  NaN         0                  0.081326        0.629032  \n",
       "3                   No         0                  0.137119        0.064516  \n",
       "4                   No         1                  0.125348        0.274194  \n",
       "...                ...       ...                       ...             ...  \n",
       "149995              No         1                  0.058396        0.096774  \n",
       "149996              No         1                  0.283016        0.483871  \n",
       "149997              No         1                  0.044990        0.129032  \n",
       "149998             Yes         0                  0.095081        0.500000  \n",
       "149999             NaN         0                  0.073109        0.596774  \n",
       "\n",
       "[150000 rows x 9 columns]"
      ]
     },
     "execution_count": 26,
     "metadata": {},
     "output_type": "execute_result"
    }
   ],
   "source": [
    "df_sc11"
   ]
  },
  {
   "cell_type": "code",
   "execution_count": 27,
   "id": "controversial-testament",
   "metadata": {},
   "outputs": [
    {
     "data": {
      "text/plain": [
       "No     88182\n",
       "Yes    43994\n",
       "Name: LOYALTY_PROGRAM, dtype: int64"
      ]
     },
     "execution_count": 27,
     "metadata": {},
     "output_type": "execute_result"
    }
   ],
   "source": [
    "df_sc11['LOYALTY_PROGRAM'].value_counts()"
   ]
  },
  {
   "cell_type": "code",
   "execution_count": 28,
   "id": "current-facility",
   "metadata": {},
   "outputs": [
    {
     "data": {
      "text/html": [
       "<div>\n",
       "<style scoped>\n",
       "    .dataframe tbody tr th:only-of-type {\n",
       "        vertical-align: middle;\n",
       "    }\n",
       "\n",
       "    .dataframe tbody tr th {\n",
       "        vertical-align: top;\n",
       "    }\n",
       "\n",
       "    .dataframe thead th {\n",
       "        text-align: right;\n",
       "    }\n",
       "</style>\n",
       "<table border=\"1\" class=\"dataframe\">\n",
       "  <thead>\n",
       "    <tr style=\"text-align: right;\">\n",
       "      <th></th>\n",
       "      <th>ID</th>\n",
       "      <th>STATE</th>\n",
       "      <th>OCCUPATION</th>\n",
       "      <th>INCOME_GROUP</th>\n",
       "      <th>CUSTOMER_SINCE</th>\n",
       "      <th>LOYALTY_PROGRAM</th>\n",
       "      <th>PURCHASE</th>\n",
       "      <th>PAST_PURCHASE_Normalised</th>\n",
       "      <th>AGE_Normalised</th>\n",
       "    </tr>\n",
       "  </thead>\n",
       "  <tbody>\n",
       "    <tr>\n",
       "      <th>0</th>\n",
       "      <td>1</td>\n",
       "      <td>Uttar Pradesh</td>\n",
       "      <td>0</td>\n",
       "      <td>0</td>\n",
       "      <td>3</td>\n",
       "      <td>No</td>\n",
       "      <td>1</td>\n",
       "      <td>0.045774</td>\n",
       "      <td>0.080645</td>\n",
       "    </tr>\n",
       "    <tr>\n",
       "      <th>1</th>\n",
       "      <td>2</td>\n",
       "      <td>Madhya Pradesh</td>\n",
       "      <td>3</td>\n",
       "      <td>0</td>\n",
       "      <td>3</td>\n",
       "      <td>No</td>\n",
       "      <td>1</td>\n",
       "      <td>0.102853</td>\n",
       "      <td>0.064516</td>\n",
       "    </tr>\n",
       "    <tr>\n",
       "      <th>2</th>\n",
       "      <td>3</td>\n",
       "      <td>West Bengal</td>\n",
       "      <td>0</td>\n",
       "      <td>2</td>\n",
       "      <td>8</td>\n",
       "      <td>NaN</td>\n",
       "      <td>0</td>\n",
       "      <td>0.081326</td>\n",
       "      <td>0.629032</td>\n",
       "    </tr>\n",
       "    <tr>\n",
       "      <th>3</th>\n",
       "      <td>4</td>\n",
       "      <td>Tamil Nadu</td>\n",
       "      <td>3</td>\n",
       "      <td>0</td>\n",
       "      <td>3</td>\n",
       "      <td>No</td>\n",
       "      <td>0</td>\n",
       "      <td>0.137119</td>\n",
       "      <td>0.064516</td>\n",
       "    </tr>\n",
       "    <tr>\n",
       "      <th>4</th>\n",
       "      <td>5</td>\n",
       "      <td>Uttar Pradesh</td>\n",
       "      <td>1</td>\n",
       "      <td>2</td>\n",
       "      <td>6</td>\n",
       "      <td>No</td>\n",
       "      <td>1</td>\n",
       "      <td>0.125348</td>\n",
       "      <td>0.274194</td>\n",
       "    </tr>\n",
       "    <tr>\n",
       "      <th>...</th>\n",
       "      <td>...</td>\n",
       "      <td>...</td>\n",
       "      <td>...</td>\n",
       "      <td>...</td>\n",
       "      <td>...</td>\n",
       "      <td>...</td>\n",
       "      <td>...</td>\n",
       "      <td>...</td>\n",
       "      <td>...</td>\n",
       "    </tr>\n",
       "    <tr>\n",
       "      <th>149995</th>\n",
       "      <td>149996</td>\n",
       "      <td>Assam</td>\n",
       "      <td>3</td>\n",
       "      <td>0</td>\n",
       "      <td>4</td>\n",
       "      <td>No</td>\n",
       "      <td>1</td>\n",
       "      <td>0.058396</td>\n",
       "      <td>0.096774</td>\n",
       "    </tr>\n",
       "    <tr>\n",
       "      <th>149996</th>\n",
       "      <td>149997</td>\n",
       "      <td>Andhra Pradesh</td>\n",
       "      <td>1</td>\n",
       "      <td>1</td>\n",
       "      <td>11</td>\n",
       "      <td>No</td>\n",
       "      <td>1</td>\n",
       "      <td>0.283016</td>\n",
       "      <td>0.483871</td>\n",
       "    </tr>\n",
       "    <tr>\n",
       "      <th>149997</th>\n",
       "      <td>149998</td>\n",
       "      <td>Odisha</td>\n",
       "      <td>0</td>\n",
       "      <td>0</td>\n",
       "      <td>3</td>\n",
       "      <td>No</td>\n",
       "      <td>1</td>\n",
       "      <td>0.044990</td>\n",
       "      <td>0.129032</td>\n",
       "    </tr>\n",
       "    <tr>\n",
       "      <th>149998</th>\n",
       "      <td>149999</td>\n",
       "      <td>Andhra Pradesh</td>\n",
       "      <td>1</td>\n",
       "      <td>2</td>\n",
       "      <td>11</td>\n",
       "      <td>Yes</td>\n",
       "      <td>0</td>\n",
       "      <td>0.095081</td>\n",
       "      <td>0.500000</td>\n",
       "    </tr>\n",
       "    <tr>\n",
       "      <th>149999</th>\n",
       "      <td>150000</td>\n",
       "      <td>Maharashtra</td>\n",
       "      <td>0</td>\n",
       "      <td>1</td>\n",
       "      <td>8</td>\n",
       "      <td>NaN</td>\n",
       "      <td>0</td>\n",
       "      <td>0.073109</td>\n",
       "      <td>0.596774</td>\n",
       "    </tr>\n",
       "  </tbody>\n",
       "</table>\n",
       "<p>150000 rows × 9 columns</p>\n",
       "</div>"
      ],
      "text/plain": [
       "            ID           STATE  OCCUPATION  INCOME_GROUP  CUSTOMER_SINCE  \\\n",
       "0            1   Uttar Pradesh           0             0               3   \n",
       "1            2  Madhya Pradesh           3             0               3   \n",
       "2            3     West Bengal           0             2               8   \n",
       "3            4      Tamil Nadu           3             0               3   \n",
       "4            5   Uttar Pradesh           1             2               6   \n",
       "...        ...             ...         ...           ...             ...   \n",
       "149995  149996           Assam           3             0               4   \n",
       "149996  149997  Andhra Pradesh           1             1              11   \n",
       "149997  149998          Odisha           0             0               3   \n",
       "149998  149999  Andhra Pradesh           1             2              11   \n",
       "149999  150000     Maharashtra           0             1               8   \n",
       "\n",
       "       LOYALTY_PROGRAM  PURCHASE  PAST_PURCHASE_Normalised  AGE_Normalised  \n",
       "0                   No         1                  0.045774        0.080645  \n",
       "1                   No         1                  0.102853        0.064516  \n",
       "2                  NaN         0                  0.081326        0.629032  \n",
       "3                   No         0                  0.137119        0.064516  \n",
       "4                   No         1                  0.125348        0.274194  \n",
       "...                ...       ...                       ...             ...  \n",
       "149995              No         1                  0.058396        0.096774  \n",
       "149996              No         1                  0.283016        0.483871  \n",
       "149997              No         1                  0.044990        0.129032  \n",
       "149998             Yes         0                  0.095081        0.500000  \n",
       "149999             NaN         0                  0.073109        0.596774  \n",
       "\n",
       "[150000 rows x 9 columns]"
      ]
     },
     "execution_count": 28,
     "metadata": {},
     "output_type": "execute_result"
    }
   ],
   "source": [
    "df_sc11"
   ]
  },
  {
   "cell_type": "code",
   "execution_count": 29,
   "id": "neither-lying",
   "metadata": {},
   "outputs": [],
   "source": [
    "cleanup_nums = {\"LOYALTY_PROGRAM\": {\"No\": 0, \"Yes\": 1}}\n",
    "df_sc11 = df_sc11.replace(cleanup_nums)"
   ]
  },
  {
   "cell_type": "code",
   "execution_count": 30,
   "id": "sublime-malpractice",
   "metadata": {},
   "outputs": [],
   "source": [
    "df_sc11=df_sc11.dropna()"
   ]
  },
  {
   "cell_type": "code",
   "execution_count": 31,
   "id": "false-switzerland",
   "metadata": {},
   "outputs": [
    {
     "data": {
      "image/png": "[encoded data removed]",
      "text/plain": [
       "<Figure size 432x288 with 1 Axes>"
      ]
     },
     "metadata": {
      "needs_background": "light"
     },
     "output_type": "display_data"
    }
   ],
   "source": [
    "sns.barplot(data=df_sc11, x='AGE_Normalised', y='PURCHASE', color='g')\n",
    "plt.show()"
   ]
  },
  {
   "cell_type": "code",
   "execution_count": 32,
   "id": "bigger-measurement",
   "metadata": {},
   "outputs": [
    {
     "data": {
      "image/png": "[encoded data removed]",
      "text/plain": [
       "<Figure size 432x432 with 3 Axes>"
      ]
     },
     "metadata": {
      "needs_background": "light"
     },
     "output_type": "display_data"
    }
   ],
   "source": [
    "sns.jointplot(data=df_sc11, x='AGE_Normalised', y='PAST_PURCHASE_Normalised', kind='reg', color='g')\n",
    "plt.show()"
   ]
  },
  {
   "cell_type": "code",
   "execution_count": 33,
   "id": "wired-trade",
   "metadata": {},
   "outputs": [],
   "source": [
    "df_sc11.loc[:, \"AGE_Normalised\"] = df_sc11[\"AGE_Normalised\"].apply(lambda x:1-x)"
   ]
  },
  {
   "cell_type": "code",
   "execution_count": 34,
   "id": "comprehensive-finder",
   "metadata": {},
   "outputs": [],
   "source": [
    "feature_cols = ['OCCUPATION', 'INCOME_GROUP', 'CUSTOMER_SINCE', 'LOYALTY_PROGRAM','PAST_PURCHASE_Normalised','AGE_Normalised']\n",
    "x = df_sc11[feature_cols] # Features\n",
    "\n",
    "y= df_sc11.PURCHASE"
   ]
  },
  {
   "cell_type": "code",
   "execution_count": 35,
   "id": "gross-celebration",
   "metadata": {},
   "outputs": [],
   "source": [
    "\n",
    "\n",
    "\n",
    "\n",
    "from sklearn.model_selection import train_test_split\n",
    "\n",
    "\n",
    "x_train, x_test, y_train, y_test = train_test_split( x, y, test_size=0.33, random_state=42)\n",
    "from sklearn.tree import DecisionTreeClassifier\n",
    "model= DecisionTreeClassifier()\n",
    "\n",
    "model.fit(x_train,y_train)\n",
    "y_pred=model.predict(x_test)\n",
    "\n",
    "\n",
    "\n",
    "\n",
    "\n",
    "\n",
    "\n",
    "\n"
   ]
  },
  {
   "cell_type": "code",
   "execution_count": 36,
   "id": "legislative-hawaiian",
   "metadata": {},
   "outputs": [
    {
     "name": "stdout",
     "output_type": "stream",
     "text": [
      "[[ 2291  4428]\n",
      " [ 4711 32189]]\n",
      "              precision    recall  f1-score   support\n",
      "\n",
      "           0       0.33      0.34      0.33      6719\n",
      "           1       0.88      0.87      0.88     36900\n",
      "\n",
      "    accuracy                           0.79     43619\n",
      "   macro avg       0.60      0.61      0.60     43619\n",
      "weighted avg       0.79      0.79      0.79     43619\n",
      "\n"
     ]
    },
    {
     "data": {
      "image/png": "[encoded data removed]",
      "text/plain": [
       "<Figure size 432x288 with 2 Axes>"
      ]
     },
     "metadata": {
      "needs_background": "light"
     },
     "output_type": "display_data"
    }
   ],
   "source": [
    "\n",
    "\n",
    "\n",
    "\n",
    "\n",
    "\n",
    "\n",
    "from sklearn.metrics import classification_report,confusion_matrix\n",
    "cm=confusion_matrix(y_test,y_pred)\n",
    "print(cm)\n",
    "sns.heatmap(cm,annot=True)\n",
    "clf_report=classification_report(y_test,y_pred)\n",
    "print(classification_report(y_test,y_pred))\n"
   ]
  },
  {
   "cell_type": "code",
   "execution_count": 37,
   "id": "attached-international",
   "metadata": {},
   "outputs": [
    {
     "name": "stdout",
     "output_type": "stream",
     "text": [
      "Accuracy: 0.790481212315734\n"
     ]
    }
   ],
   "source": [
    "from sklearn import metrics\n",
    "print(\"Accuracy:\",metrics.accuracy_score(y_test, y_pred))\n",
    "\n"
   ]
  },
  {
   "cell_type": "code",
   "execution_count": 38,
   "id": "sporting-retention",
   "metadata": {},
   "outputs": [
    {
     "name": "stdout",
     "output_type": "stream",
     "text": [
      "Testing Dataset  the model--------------------------------------\n"
     ]
    }
   ],
   "source": [
    "print('Testing Dataset  the model--------------------------------------')\n"
   ]
  },
  {
   "cell_type": "code",
   "execution_count": 39,
   "id": "indoor-backing",
   "metadata": {},
   "outputs": [
    {
     "data": {
      "text/plain": [
       "50000"
      ]
     },
     "execution_count": 39,
     "metadata": {},
     "output_type": "execute_result"
    }
   ],
   "source": [
    "test=pd.read_csv('testing.csv')\n",
    "test = pd.DataFrame(test)\n",
    "test.head()\n",
    "len(test)\n"
   ]
  },
  {
   "cell_type": "code",
   "execution_count": 40,
   "id": "boxed-partner",
   "metadata": {},
   "outputs": [
    {
     "data": {
      "text/plain": [
       "Index(['Unnamed: 0', 'ID', 'STATE', 'OCCUPATION', 'INCOME_GROUP',\n",
       "       'CUSTOMER_SINCE', 'LOYALTY_PROGRAM', 'PAST_PURCHASE_Normalised',\n",
       "       'AGE_Normalised'],\n",
       "      dtype='object')"
      ]
     },
     "execution_count": 40,
     "metadata": {},
     "output_type": "execute_result"
    }
   ],
   "source": [
    "\n",
    "test.columns"
   ]
  },
  {
   "cell_type": "code",
   "execution_count": 41,
   "id": "automotive-problem",
   "metadata": {},
   "outputs": [
    {
     "data": {
      "text/plain": [
       "50000"
      ]
     },
     "execution_count": 41,
     "metadata": {},
     "output_type": "execute_result"
    }
   ],
   "source": [
    "test=test.drop(['ID','STATE','Unnamed: 0'], axis = 1)\n",
    "len(test)"
   ]
  },
  {
   "cell_type": "code",
   "execution_count": 42,
   "id": "perfect-revision",
   "metadata": {},
   "outputs": [
    {
     "data": {
      "text/plain": [
       "array([1, 1, 1, ..., 1, 1, 1], dtype=uint8)"
      ]
     },
     "execution_count": 42,
     "metadata": {},
     "output_type": "execute_result"
    }
   ],
   "source": [
    "\n",
    "\n",
    "#Predict the response for test dataset\n",
    "y_pred_test = model.predict(test)\n",
    "y_pred_test\n"
   ]
  },
  {
   "cell_type": "code",
   "execution_count": 43,
   "id": "legal-heavy",
   "metadata": {},
   "outputs": [
    {
     "data": {
      "text/plain": [
       "50000"
      ]
     },
     "execution_count": 43,
     "metadata": {},
     "output_type": "execute_result"
    }
   ],
   "source": [
    "len(y_pred_test)"
   ]
  },
  {
   "cell_type": "code",
   "execution_count": 44,
   "id": "private-formula",
   "metadata": {},
   "outputs": [
    {
     "data": {
      "text/plain": [
       "50000"
      ]
     },
     "execution_count": 44,
     "metadata": {},
     "output_type": "execute_result"
    }
   ],
   "source": [
    "len(test)"
   ]
  },
  {
   "cell_type": "code",
   "execution_count": 45,
   "id": "timely-america",
   "metadata": {},
   "outputs": [],
   "source": [
    "df_teaser=pd.DataFrame(y_pred_test)"
   ]
  },
  {
   "cell_type": "code",
   "execution_count": 46,
   "id": "deluxe-skating",
   "metadata": {},
   "outputs": [],
   "source": [
    "df_teaser.rename(columns = {0:'PURCHASE'}, inplace = True)"
   ]
  },
  {
   "cell_type": "code",
   "execution_count": 47,
   "id": "biblical-shock",
   "metadata": {},
   "outputs": [
    {
     "data": {
      "text/plain": [
       "PURCHASE\n",
       "1           41751\n",
       "0            8249\n",
       "dtype: int64"
      ]
     },
     "execution_count": 47,
     "metadata": {},
     "output_type": "execute_result"
    }
   ],
   "source": [
    "df_teaser.value_counts()"
   ]
  },
  {
   "cell_type": "code",
   "execution_count": 48,
   "id": "rocky-jacket",
   "metadata": {},
   "outputs": [
    {
     "data": {
      "text/html": [
       "<div>\n",
       "<style scoped>\n",
       "    .dataframe tbody tr th:only-of-type {\n",
       "        vertical-align: middle;\n",
       "    }\n",
       "\n",
       "    .dataframe tbody tr th {\n",
       "        vertical-align: top;\n",
       "    }\n",
       "\n",
       "    .dataframe thead th {\n",
       "        text-align: right;\n",
       "    }\n",
       "</style>\n",
       "<table border=\"1\" class=\"dataframe\">\n",
       "  <thead>\n",
       "    <tr style=\"text-align: right;\">\n",
       "      <th></th>\n",
       "      <th>PURCHASE</th>\n",
       "    </tr>\n",
       "  </thead>\n",
       "  <tbody>\n",
       "    <tr>\n",
       "      <th>0</th>\n",
       "      <td>1</td>\n",
       "    </tr>\n",
       "    <tr>\n",
       "      <th>1</th>\n",
       "      <td>1</td>\n",
       "    </tr>\n",
       "    <tr>\n",
       "      <th>2</th>\n",
       "      <td>1</td>\n",
       "    </tr>\n",
       "    <tr>\n",
       "      <th>3</th>\n",
       "      <td>0</td>\n",
       "    </tr>\n",
       "    <tr>\n",
       "      <th>4</th>\n",
       "      <td>1</td>\n",
       "    </tr>\n",
       "    <tr>\n",
       "      <th>...</th>\n",
       "      <td>...</td>\n",
       "    </tr>\n",
       "    <tr>\n",
       "      <th>49995</th>\n",
       "      <td>1</td>\n",
       "    </tr>\n",
       "    <tr>\n",
       "      <th>49996</th>\n",
       "      <td>1</td>\n",
       "    </tr>\n",
       "    <tr>\n",
       "      <th>49997</th>\n",
       "      <td>1</td>\n",
       "    </tr>\n",
       "    <tr>\n",
       "      <th>49998</th>\n",
       "      <td>1</td>\n",
       "    </tr>\n",
       "    <tr>\n",
       "      <th>49999</th>\n",
       "      <td>1</td>\n",
       "    </tr>\n",
       "  </tbody>\n",
       "</table>\n",
       "<p>50000 rows × 1 columns</p>\n",
       "</div>"
      ],
      "text/plain": [
       "       PURCHASE\n",
       "0             1\n",
       "1             1\n",
       "2             1\n",
       "3             0\n",
       "4             1\n",
       "...         ...\n",
       "49995         1\n",
       "49996         1\n",
       "49997         1\n",
       "49998         1\n",
       "49999         1\n",
       "\n",
       "[50000 rows x 1 columns]"
      ]
     },
     "execution_count": 48,
     "metadata": {},
     "output_type": "execute_result"
    }
   ],
   "source": [
    "df_teaser\n"
   ]
  },
  {
   "cell_type": "code",
   "execution_count": 49,
   "id": "verified-trial",
   "metadata": {},
   "outputs": [],
   "source": [
    "data_not=pd.read_csv('sample_submission.csv')"
   ]
  },
  {
   "cell_type": "code",
   "execution_count": 50,
   "id": "prompt-hobby",
   "metadata": {},
   "outputs": [
    {
     "data": {
      "text/html": [
       "<div>\n",
       "<style scoped>\n",
       "    .dataframe tbody tr th:only-of-type {\n",
       "        vertical-align: middle;\n",
       "    }\n",
       "\n",
       "    .dataframe tbody tr th {\n",
       "        vertical-align: top;\n",
       "    }\n",
       "\n",
       "    .dataframe thead th {\n",
       "        text-align: right;\n",
       "    }\n",
       "</style>\n",
       "<table border=\"1\" class=\"dataframe\">\n",
       "  <thead>\n",
       "    <tr style=\"text-align: right;\">\n",
       "      <th></th>\n",
       "      <th>ID</th>\n",
       "      <th>PURCH</th>\n",
       "    </tr>\n",
       "  </thead>\n",
       "  <tbody>\n",
       "    <tr>\n",
       "      <th>0</th>\n",
       "      <td>150001</td>\n",
       "      <td>NaN</td>\n",
       "    </tr>\n",
       "    <tr>\n",
       "      <th>1</th>\n",
       "      <td>150002</td>\n",
       "      <td>NaN</td>\n",
       "    </tr>\n",
       "    <tr>\n",
       "      <th>2</th>\n",
       "      <td>150003</td>\n",
       "      <td>NaN</td>\n",
       "    </tr>\n",
       "    <tr>\n",
       "      <th>3</th>\n",
       "      <td>150004</td>\n",
       "      <td>NaN</td>\n",
       "    </tr>\n",
       "    <tr>\n",
       "      <th>4</th>\n",
       "      <td>150005</td>\n",
       "      <td>NaN</td>\n",
       "    </tr>\n",
       "    <tr>\n",
       "      <th>...</th>\n",
       "      <td>...</td>\n",
       "      <td>...</td>\n",
       "    </tr>\n",
       "    <tr>\n",
       "      <th>49995</th>\n",
       "      <td>199996</td>\n",
       "      <td>NaN</td>\n",
       "    </tr>\n",
       "    <tr>\n",
       "      <th>49996</th>\n",
       "      <td>199997</td>\n",
       "      <td>NaN</td>\n",
       "    </tr>\n",
       "    <tr>\n",
       "      <th>49997</th>\n",
       "      <td>199998</td>\n",
       "      <td>NaN</td>\n",
       "    </tr>\n",
       "    <tr>\n",
       "      <th>49998</th>\n",
       "      <td>199999</td>\n",
       "      <td>NaN</td>\n",
       "    </tr>\n",
       "    <tr>\n",
       "      <th>49999</th>\n",
       "      <td>200000</td>\n",
       "      <td>NaN</td>\n",
       "    </tr>\n",
       "  </tbody>\n",
       "</table>\n",
       "<p>50000 rows × 2 columns</p>\n",
       "</div>"
      ],
      "text/plain": [
       "           ID  PURCH\n",
       "0      150001    NaN\n",
       "1      150002    NaN\n",
       "2      150003    NaN\n",
       "3      150004    NaN\n",
       "4      150005    NaN\n",
       "...       ...    ...\n",
       "49995  199996    NaN\n",
       "49996  199997    NaN\n",
       "49997  199998    NaN\n",
       "49998  199999    NaN\n",
       "49999  200000    NaN\n",
       "\n",
       "[50000 rows x 2 columns]"
      ]
     },
     "execution_count": 50,
     "metadata": {},
     "output_type": "execute_result"
    }
   ],
   "source": [
    "data_not"
   ]
  },
  {
   "cell_type": "code",
   "execution_count": 51,
   "id": "covered-venue",
   "metadata": {
    "scrolled": true
   },
   "outputs": [
    {
     "data": {
      "text/html": [
       "<div>\n",
       "<style scoped>\n",
       "    .dataframe tbody tr th:only-of-type {\n",
       "        vertical-align: middle;\n",
       "    }\n",
       "\n",
       "    .dataframe tbody tr th {\n",
       "        vertical-align: top;\n",
       "    }\n",
       "\n",
       "    .dataframe thead th {\n",
       "        text-align: right;\n",
       "    }\n",
       "</style>\n",
       "<table border=\"1\" class=\"dataframe\">\n",
       "  <thead>\n",
       "    <tr style=\"text-align: right;\">\n",
       "      <th></th>\n",
       "      <th>ID</th>\n",
       "      <th>PURCH</th>\n",
       "    </tr>\n",
       "  </thead>\n",
       "  <tbody>\n",
       "    <tr>\n",
       "      <th>0</th>\n",
       "      <td>150001</td>\n",
       "      <td>NaN</td>\n",
       "    </tr>\n",
       "    <tr>\n",
       "      <th>1</th>\n",
       "      <td>150002</td>\n",
       "      <td>NaN</td>\n",
       "    </tr>\n",
       "    <tr>\n",
       "      <th>2</th>\n",
       "      <td>150003</td>\n",
       "      <td>NaN</td>\n",
       "    </tr>\n",
       "    <tr>\n",
       "      <th>3</th>\n",
       "      <td>150004</td>\n",
       "      <td>NaN</td>\n",
       "    </tr>\n",
       "    <tr>\n",
       "      <th>4</th>\n",
       "      <td>150005</td>\n",
       "      <td>NaN</td>\n",
       "    </tr>\n",
       "    <tr>\n",
       "      <th>...</th>\n",
       "      <td>...</td>\n",
       "      <td>...</td>\n",
       "    </tr>\n",
       "    <tr>\n",
       "      <th>49995</th>\n",
       "      <td>199996</td>\n",
       "      <td>NaN</td>\n",
       "    </tr>\n",
       "    <tr>\n",
       "      <th>49996</th>\n",
       "      <td>199997</td>\n",
       "      <td>NaN</td>\n",
       "    </tr>\n",
       "    <tr>\n",
       "      <th>49997</th>\n",
       "      <td>199998</td>\n",
       "      <td>NaN</td>\n",
       "    </tr>\n",
       "    <tr>\n",
       "      <th>49998</th>\n",
       "      <td>199999</td>\n",
       "      <td>NaN</td>\n",
       "    </tr>\n",
       "    <tr>\n",
       "      <th>49999</th>\n",
       "      <td>200000</td>\n",
       "      <td>NaN</td>\n",
       "    </tr>\n",
       "  </tbody>\n",
       "</table>\n",
       "<p>50000 rows × 2 columns</p>\n",
       "</div>"
      ],
      "text/plain": [
       "           ID  PURCH\n",
       "0      150001    NaN\n",
       "1      150002    NaN\n",
       "2      150003    NaN\n",
       "3      150004    NaN\n",
       "4      150005    NaN\n",
       "...       ...    ...\n",
       "49995  199996    NaN\n",
       "49996  199997    NaN\n",
       "49997  199998    NaN\n",
       "49998  199999    NaN\n",
       "49999  200000    NaN\n",
       "\n",
       "[50000 rows x 2 columns]"
      ]
     },
     "execution_count": 51,
     "metadata": {},
     "output_type": "execute_result"
    }
   ],
   "source": [
    "data_not"
   ]
  },
  {
   "cell_type": "code",
   "execution_count": 52,
   "id": "further-event",
   "metadata": {},
   "outputs": [],
   "source": [
    "data_not=pd.concat([data_not,df_teaser],axis=1)"
   ]
  },
  {
   "cell_type": "code",
   "execution_count": 53,
   "id": "composite-fossil",
   "metadata": {},
   "outputs": [
    {
     "data": {
      "text/html": [
       "<div>\n",
       "<style scoped>\n",
       "    .dataframe tbody tr th:only-of-type {\n",
       "        vertical-align: middle;\n",
       "    }\n",
       "\n",
       "    .dataframe tbody tr th {\n",
       "        vertical-align: top;\n",
       "    }\n",
       "\n",
       "    .dataframe thead th {\n",
       "        text-align: right;\n",
       "    }\n",
       "</style>\n",
       "<table border=\"1\" class=\"dataframe\">\n",
       "  <thead>\n",
       "    <tr style=\"text-align: right;\">\n",
       "      <th></th>\n",
       "      <th>ID</th>\n",
       "      <th>PURCH</th>\n",
       "      <th>PURCHASE</th>\n",
       "    </tr>\n",
       "  </thead>\n",
       "  <tbody>\n",
       "    <tr>\n",
       "      <th>0</th>\n",
       "      <td>150001</td>\n",
       "      <td>NaN</td>\n",
       "      <td>1</td>\n",
       "    </tr>\n",
       "    <tr>\n",
       "      <th>1</th>\n",
       "      <td>150002</td>\n",
       "      <td>NaN</td>\n",
       "      <td>1</td>\n",
       "    </tr>\n",
       "    <tr>\n",
       "      <th>2</th>\n",
       "      <td>150003</td>\n",
       "      <td>NaN</td>\n",
       "      <td>1</td>\n",
       "    </tr>\n",
       "    <tr>\n",
       "      <th>3</th>\n",
       "      <td>150004</td>\n",
       "      <td>NaN</td>\n",
       "      <td>0</td>\n",
       "    </tr>\n",
       "    <tr>\n",
       "      <th>4</th>\n",
       "      <td>150005</td>\n",
       "      <td>NaN</td>\n",
       "      <td>1</td>\n",
       "    </tr>\n",
       "    <tr>\n",
       "      <th>...</th>\n",
       "      <td>...</td>\n",
       "      <td>...</td>\n",
       "      <td>...</td>\n",
       "    </tr>\n",
       "    <tr>\n",
       "      <th>49995</th>\n",
       "      <td>199996</td>\n",
       "      <td>NaN</td>\n",
       "      <td>1</td>\n",
       "    </tr>\n",
       "    <tr>\n",
       "      <th>49996</th>\n",
       "      <td>199997</td>\n",
       "      <td>NaN</td>\n",
       "      <td>1</td>\n",
       "    </tr>\n",
       "    <tr>\n",
       "      <th>49997</th>\n",
       "      <td>199998</td>\n",
       "      <td>NaN</td>\n",
       "      <td>1</td>\n",
       "    </tr>\n",
       "    <tr>\n",
       "      <th>49998</th>\n",
       "      <td>199999</td>\n",
       "      <td>NaN</td>\n",
       "      <td>1</td>\n",
       "    </tr>\n",
       "    <tr>\n",
       "      <th>49999</th>\n",
       "      <td>200000</td>\n",
       "      <td>NaN</td>\n",
       "      <td>1</td>\n",
       "    </tr>\n",
       "  </tbody>\n",
       "</table>\n",
       "<p>50000 rows × 3 columns</p>\n",
       "</div>"
      ],
      "text/plain": [
       "           ID  PURCH  PURCHASE\n",
       "0      150001    NaN         1\n",
       "1      150002    NaN         1\n",
       "2      150003    NaN         1\n",
       "3      150004    NaN         0\n",
       "4      150005    NaN         1\n",
       "...       ...    ...       ...\n",
       "49995  199996    NaN         1\n",
       "49996  199997    NaN         1\n",
       "49997  199998    NaN         1\n",
       "49998  199999    NaN         1\n",
       "49999  200000    NaN         1\n",
       "\n",
       "[50000 rows x 3 columns]"
      ]
     },
     "execution_count": 53,
     "metadata": {},
     "output_type": "execute_result"
    }
   ],
   "source": [
    "data_not"
   ]
  },
  {
   "cell_type": "code",
   "execution_count": 54,
   "id": "reduced-oregon",
   "metadata": {},
   "outputs": [],
   "source": [
    "data_not.drop('PURCH',\n",
    "  axis='columns', inplace=True)\n"
   ]
  },
  {
   "cell_type": "code",
   "execution_count": 55,
   "id": "imperial-people",
   "metadata": {},
   "outputs": [],
   "source": [
    "\n",
    "cleanup_nums = {\"PURCHASE\":     {0: 'No', 1: 'Yes'}}\n",
    "data_not =data_not.replace(cleanup_nums)"
   ]
  },
  {
   "cell_type": "code",
   "execution_count": 56,
   "id": "vanilla-tampa",
   "metadata": {},
   "outputs": [],
   "source": [
    "data_not.to_csv(\"Final_Submission_File.csv\")"
   ]
  },
  {
   "cell_type": "code",
   "execution_count": 57,
   "id": "architectural-pressure",
   "metadata": {},
   "outputs": [
    {
     "data": {
      "text/html": [
       "<div>\n",
       "<style scoped>\n",
       "    .dataframe tbody tr th:only-of-type {\n",
       "        vertical-align: middle;\n",
       "    }\n",
       "\n",
       "    .dataframe tbody tr th {\n",
       "        vertical-align: top;\n",
       "    }\n",
       "\n",
       "    .dataframe thead th {\n",
       "        text-align: right;\n",
       "    }\n",
       "</style>\n",
       "<table border=\"1\" class=\"dataframe\">\n",
       "  <thead>\n",
       "    <tr style=\"text-align: right;\">\n",
       "      <th></th>\n",
       "      <th>ID</th>\n",
       "      <th>PURCHASE</th>\n",
       "    </tr>\n",
       "  </thead>\n",
       "  <tbody>\n",
       "    <tr>\n",
       "      <th>0</th>\n",
       "      <td>150001</td>\n",
       "      <td>Yes</td>\n",
       "    </tr>\n",
       "    <tr>\n",
       "      <th>1</th>\n",
       "      <td>150002</td>\n",
       "      <td>Yes</td>\n",
       "    </tr>\n",
       "    <tr>\n",
       "      <th>2</th>\n",
       "      <td>150003</td>\n",
       "      <td>Yes</td>\n",
       "    </tr>\n",
       "    <tr>\n",
       "      <th>3</th>\n",
       "      <td>150004</td>\n",
       "      <td>No</td>\n",
       "    </tr>\n",
       "    <tr>\n",
       "      <th>4</th>\n",
       "      <td>150005</td>\n",
       "      <td>Yes</td>\n",
       "    </tr>\n",
       "    <tr>\n",
       "      <th>...</th>\n",
       "      <td>...</td>\n",
       "      <td>...</td>\n",
       "    </tr>\n",
       "    <tr>\n",
       "      <th>49995</th>\n",
       "      <td>199996</td>\n",
       "      <td>Yes</td>\n",
       "    </tr>\n",
       "    <tr>\n",
       "      <th>49996</th>\n",
       "      <td>199997</td>\n",
       "      <td>Yes</td>\n",
       "    </tr>\n",
       "    <tr>\n",
       "      <th>49997</th>\n",
       "      <td>199998</td>\n",
       "      <td>Yes</td>\n",
       "    </tr>\n",
       "    <tr>\n",
       "      <th>49998</th>\n",
       "      <td>199999</td>\n",
       "      <td>Yes</td>\n",
       "    </tr>\n",
       "    <tr>\n",
       "      <th>49999</th>\n",
       "      <td>200000</td>\n",
       "      <td>Yes</td>\n",
       "    </tr>\n",
       "  </tbody>\n",
       "</table>\n",
       "<p>50000 rows × 2 columns</p>\n",
       "</div>"
      ],
      "text/plain": [
       "           ID PURCHASE\n",
       "0      150001      Yes\n",
       "1      150002      Yes\n",
       "2      150003      Yes\n",
       "3      150004       No\n",
       "4      150005      Yes\n",
       "...       ...      ...\n",
       "49995  199996      Yes\n",
       "49996  199997      Yes\n",
       "49997  199998      Yes\n",
       "49998  199999      Yes\n",
       "49999  200000      Yes\n",
       "\n",
       "[50000 rows x 2 columns]"
      ]
     },
     "execution_count": 57,
     "metadata": {},
     "output_type": "execute_result"
    }
   ],
   "source": [
    "data_not"
   ]
  },
  {
   "cell_type": "code",
   "execution_count": 62,
   "id": "accurate-knock",
   "metadata": {},
   "outputs": [
    {
     "name": "stdout",
     "output_type": "stream",
     "text": [
      "       OCCUPATION  INCOME_GROUP  CUSTOMER_SINCE  LOYALTY_PROGRAM  \\\n",
      "0               1             1               3                0   \n",
      "1               1             2              10                1   \n",
      "2               3             0               4                1   \n",
      "3               3             0               3                1   \n",
      "4               0             1               7                0   \n",
      "...           ...           ...             ...              ...   \n",
      "49995           1             1               5                0   \n",
      "49996           1             2               5                0   \n",
      "49997           0             2              10                0   \n",
      "49998           3             0               4                1   \n",
      "49999           3             0               3                1   \n",
      "\n",
      "       PAST_PURCHASE_Normalised  AGE_Normalised  \n",
      "0                      0.128395        0.573770  \n",
      "1                      0.123494        0.442623  \n",
      "2                      0.166592        0.901639  \n",
      "3                      0.096197        0.950820  \n",
      "4                      0.159517        0.295082  \n",
      "...                         ...             ...  \n",
      "49995                  0.159799        0.590164  \n",
      "49996                  0.069538        0.622951  \n",
      "49997                  0.162631        0.360656  \n",
      "49998                  0.060394        0.868852  \n",
      "49999                  0.068106        0.868852  \n",
      "\n",
      "[50000 rows x 6 columns]\n"
     ]
    }
   ],
   "source": [
    "import pickle\n",
    "pickle.dump(model,open('model.pkl','wb'))\n",
    "print(test)"
   ]
  },
  {
   "cell_type": "code",
   "execution_count": 67,
   "id": "differential-breach",
   "metadata": {},
   "outputs": [
    {
     "name": "stdout",
     "output_type": "stream",
     "text": [
      "[0]\n"
     ]
    }
   ],
   "source": [
    "model=pickle.load(open('model.pkl','rb'))\n",
    "print(model.predict([test.loc[9900]]))"
   ]
  },
  {
   "cell_type": "code",
   "execution_count": 68,
   "id": "painful-martin",
   "metadata": {},
   "outputs": [
    {
     "name": "stdout",
     "output_type": "stream",
     "text": [
      "OCCUPATION                  1.000000\n",
      "INCOME_GROUP                1.000000\n",
      "CUSTOMER_SINCE              8.000000\n",
      "LOYALTY_PROGRAM             1.000000\n",
      "PAST_PURCHASE_Normalised    0.162736\n",
      "AGE_Normalised              0.655738\n",
      "Name: 7, dtype: float64\n"
     ]
    }
   ],
   "source": [
    "print(test.loc[7])"
   ]
  },
  {
   "cell_type": "code",
   "execution_count": null,
   "id": "following-sandwich",
   "metadata": {},
   "outputs": [],
   "source": []
  }
 ],
 "metadata": {
  "kernelspec": {
   "display_name": "Python 3",
   "language": "python",
   "name": "python3"
  },
  "language_info": {
   "codemirror_mode": {
    "name": "ipython",
    "version": 3
   },
   "file_extension": ".py",
   "mimetype": "text/x-python",
   "name": "python",
   "nbconvert_exporter": "python",
   "pygments_lexer": "ipython3",
   "version": "3.9.2"
  }
 },
 "nbformat": 4,
 "nbformat_minor": 5
}